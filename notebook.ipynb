{
 "cells": [
  {
   "cell_type": "markdown",
   "metadata": {},
   "source": [
    "# Libraries"
   ]
  },
  {
   "cell_type": "code",
   "execution_count": 1,
   "metadata": {},
   "outputs": [],
   "source": [
    "import matplotlib.pyplot as plt\n",
    "import pandas as pd\n",
    "from scipy.signal import savgol_filter\n",
    "import os\n",
    "from ipywidgets import interact, widgets"
   ]
  },
  {
   "cell_type": "markdown",
   "metadata": {},
   "source": [
    "# Metodo para graficar"
   ]
  },
  {
   "cell_type": "code",
   "execution_count": 2,
   "metadata": {},
   "outputs": [],
   "source": [
    "def plot_csv_data(files, window_length, polyorder, title, ):\n",
    "    plt.figure(figsize=(10, 6))\n",
    "    \n",
    "    for i, file in enumerate(files):\n",
    "        data = pd.read_csv(file)\n",
    "        x = data['Wavelength (nm)']\n",
    "        y = data['Absorbance (AU)']/(0.01*0.005)\n",
    "        \n",
    "        # Aplicar suavizado\n",
    "        y_smooth = savgol_filter(y, window_length, polyorder)\n",
    "        \n",
    "        plt.plot(x, y_smooth, linewidth=0.5)  # Ajustar el grosor de la línea aquí\n",
    "    \n",
    "    plt.xlabel('Eje X')\n",
    "    plt.ylabel('Eje Y')\n",
    "    plt.title(title)\n",
    "    # plt.ylim(y_min, y_max)  # Definir el rango del eje Y\n",
    "    plt.legend()\n",
    "    plt.show()\n",
    "\n"
   ]
  },
  {
   "cell_type": "markdown",
   "metadata": {},
   "source": [
    "# 1L-1M ACIDO DIPICOLINICO"
   ]
  },
  {
   "cell_type": "code",
   "execution_count": 10,
   "metadata": {},
   "outputs": [
    {
     "data": {
      "application/vnd.jupyter.widget-view+json": {
       "model_id": "3dd6409123da40f6a6931727437e47e2",
       "version_major": 2,
       "version_minor": 0
      },
      "text/plain": [
       "interactive(children=(SelectMultiple(description='Archivos CSV', index=(0, 1, 2, 3, 4, 5, 6, 7, 8, 9, 10, 11, …"
      ]
     },
     "metadata": {},
     "output_type": "display_data"
    },
    {
     "data": {
      "text/plain": [
       "<function __main__.plot_csv_data(files, window_length, polyorder, title)>"
      ]
     },
     "execution_count": 10,
     "metadata": {},
     "output_type": "execute_result"
    },
    {
     "data": {
      "text/plain": [
       "<Figure size 1000x600 with 0 Axes>"
      ]
     },
     "metadata": {},
     "output_type": "display_data"
    }
   ],
   "source": [
    "csv_files = os.listdir(\"1L-1M DIPIC\")\n",
    "csv_files = list(map(lambda x: f\"1L-1M DIPIC/{x}\", csv_files))\n",
    "\n",
    "# Interfaz interactiva para seleccionar archivos\n",
    "file_selector = widgets.SelectMultiple(\n",
    "    options=csv_files,\n",
    "    value=csv_files,\n",
    "    description='Archivos CSV',\n",
    "    disabled=False\n",
    ")\n",
    "\n",
    "\n",
    "# Widgets para parámetros de suavizado\n",
    "window_length_selector = widgets.IntSlider(\n",
    "    value=51,\n",
    "    min=3,\n",
    "    max=101,\n",
    "    step=2,\n",
    "    description='Window Length',\n",
    "    disabled=False\n",
    ")\n",
    "\n",
    "polyorder_selector = widgets.IntSlider(\n",
    "    value=3,\n",
    "    min=1,\n",
    "    max=5,\n",
    "    step=1,\n",
    "    description='Polyorder',\n",
    "    disabled=False\n",
    ")\n",
    "\n",
    "interact(plot_csv_data, files=file_selector,\n",
    "         window_length=window_length_selector, polyorder=polyorder_selector, title = \"1L-1M ACIDO DIPICOLINICO\")"
   ]
  },
  {
   "cell_type": "markdown",
   "metadata": {},
   "source": [
    "# 2L-1M ACIDO DIPICOLINICO"
   ]
  },
  {
   "cell_type": "code",
   "execution_count": 5,
   "metadata": {},
   "outputs": [
    {
     "data": {
      "application/vnd.jupyter.widget-view+json": {
       "model_id": "13d51419147f4cbc97ee4aec53c2449d",
       "version_major": 2,
       "version_minor": 0
      },
      "text/plain": [
       "interactive(children=(SelectMultiple(description='Archivos CSV', index=(0, 1, 2, 3, 4, 5, 6, 7, 8, 9, 10, 11, …"
      ]
     },
     "metadata": {},
     "output_type": "display_data"
    },
    {
     "data": {
      "text/plain": [
       "<function __main__.plot_csv_data(files, window_length, polyorder, title)>"
      ]
     },
     "execution_count": 5,
     "metadata": {},
     "output_type": "execute_result"
    }
   ],
   "source": [
    "csv_files = os.listdir(\"2L-1M DIPIC\")\n",
    "csv_files = list(map(lambda x: f\"2L-1M DIPIC/{x}\", csv_files))\n",
    "\n",
    "# Interfaz interactiva para seleccionar archivos\n",
    "file_selector = widgets.SelectMultiple(\n",
    "    options=csv_files,\n",
    "    value=csv_files,\n",
    "    description='Archivos CSV',\n",
    "    disabled=False\n",
    ")\n",
    "\n",
    "\n",
    "# Widgets para parámetros de suavizado\n",
    "window_length_selector = widgets.IntSlider(\n",
    "    value=51,\n",
    "    min=3,\n",
    "    max=101,\n",
    "    step=2,\n",
    "    description='Window Length',\n",
    "    disabled=False\n",
    ")\n",
    "\n",
    "polyorder_selector = widgets.IntSlider(\n",
    "    value=3,\n",
    "    min=1,\n",
    "    max=5,\n",
    "    step=1,\n",
    "    description='Polyorder',\n",
    "    disabled=False\n",
    ")\n",
    "\n",
    "interact(plot_csv_data, files=file_selector,\n",
    "         window_length=window_length_selector, polyorder=polyorder_selector, title = \"2L-1M ACIDO DIPICOLINICO\")"
   ]
  },
  {
   "cell_type": "markdown",
   "metadata": {},
   "source": [
    "# 4L-1M ACIDO DIPICOLINICO"
   ]
  },
  {
   "cell_type": "code",
   "execution_count": 6,
   "metadata": {},
   "outputs": [
    {
     "data": {
      "application/vnd.jupyter.widget-view+json": {
       "model_id": "7170b859bf9e4bafb319c576378a8d94",
       "version_major": 2,
       "version_minor": 0
      },
      "text/plain": [
       "interactive(children=(SelectMultiple(description='Archivos CSV', index=(0, 1, 2, 3, 4, 5, 6, 7, 8, 9, 10, 11, …"
      ]
     },
     "metadata": {},
     "output_type": "display_data"
    },
    {
     "data": {
      "text/plain": [
       "<function __main__.plot_csv_data(files, window_length, polyorder, title)>"
      ]
     },
     "execution_count": 6,
     "metadata": {},
     "output_type": "execute_result"
    }
   ],
   "source": [
    "csv_files = os.listdir(\"4L-1M DIPIC\")\n",
    "csv_files = list(map(lambda x: f\"4L-1M DIPIC/{x}\", csv_files))\n",
    "\n",
    "# Interfaz interactiva para seleccionar archivos\n",
    "file_selector = widgets.SelectMultiple(\n",
    "    options=csv_files,\n",
    "    value=csv_files,\n",
    "    description='Archivos CSV',\n",
    "    disabled=False\n",
    ")\n",
    "\n",
    "\n",
    "# Widgets para parámetros de suavizado\n",
    "window_length_selector = widgets.IntSlider(\n",
    "    value=51,\n",
    "    min=3,\n",
    "    max=101,\n",
    "    step=2,\n",
    "    description='Window Length',\n",
    "    disabled=False\n",
    ")\n",
    "\n",
    "polyorder_selector = widgets.IntSlider(\n",
    "    value=3,\n",
    "    min=1,\n",
    "    max=5,\n",
    "    step=1,\n",
    "    description='Polyorder',\n",
    "    disabled=False\n",
    ")\n",
    "\n",
    "interact(plot_csv_data, files=file_selector,\n",
    "         window_length=window_length_selector, polyorder=polyorder_selector, title = \"4L-1M ACIDO DIPICOLINICO\")"
   ]
  },
  {
   "cell_type": "code",
   "execution_count": null,
   "metadata": {},
   "outputs": [],
   "source": []
  },
  {
   "cell_type": "code",
   "execution_count": null,
   "metadata": {},
   "outputs": [],
   "source": []
  },
  {
   "cell_type": "code",
   "execution_count": null,
   "metadata": {},
   "outputs": [],
   "source": []
  },
  {
   "cell_type": "code",
   "execution_count": null,
   "metadata": {},
   "outputs": [],
   "source": []
  },
  {
   "cell_type": "code",
   "execution_count": null,
   "metadata": {},
   "outputs": [],
   "source": []
  },
  {
   "cell_type": "code",
   "execution_count": null,
   "metadata": {},
   "outputs": [],
   "source": []
  },
  {
   "cell_type": "code",
   "execution_count": null,
   "metadata": {},
   "outputs": [],
   "source": []
  },
  {
   "cell_type": "code",
   "execution_count": null,
   "metadata": {},
   "outputs": [],
   "source": []
  }
 ],
 "metadata": {
  "kernelspec": {
   "display_name": ".venv",
   "language": "python",
   "name": "python3"
  },
  "language_info": {
   "codemirror_mode": {
    "name": "ipython",
    "version": 3
   },
   "file_extension": ".py",
   "mimetype": "text/x-python",
   "name": "python",
   "nbconvert_exporter": "python",
   "pygments_lexer": "ipython3",
   "version": "3.10.13"
  }
 },
 "nbformat": 4,
 "nbformat_minor": 2
}
